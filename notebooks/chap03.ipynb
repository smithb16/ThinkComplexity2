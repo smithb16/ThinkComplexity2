{
 "cells": [
  {
   "cell_type": "markdown",
   "metadata": {},
   "source": [
    "# Small World Graphs\n",
    "\n",
    "Code examples from [Think Complexity, 2nd edition](https://thinkcomplex.com).\n",
    "\n",
    "Copyright 2016 Allen Downey, [MIT License](http://opensource.org/licenses/MIT)"
   ]
  },
  {
   "cell_type": "code",
   "execution_count": 1,
   "metadata": {},
   "outputs": [],
   "source": [
    "%matplotlib inline\n",
    "\n",
    "import matplotlib.pyplot as plt\n",
    "import networkx as nx\n",
    "import numpy as np\n",
    "import seaborn as sns\n",
    "\n",
    "from utils import decorate, savefig\n",
    "\n",
    "# I set the random seed so the notebook \n",
    "# produces the same results every time.\n",
    "np.random.seed(17)\n",
    "\n",
    "# TODO: remove this when NetworkX is fixed\n",
    "from warnings import simplefilter\n",
    "import matplotlib.cbook\n",
    "simplefilter(\"ignore\", matplotlib.cbook.mplDeprecation)"
   ]
  },
  {
   "cell_type": "code",
   "execution_count": 2,
   "metadata": {},
   "outputs": [],
   "source": [
    "# node colors for drawing networks\n",
    "colors = sns.color_palette('pastel', 5)\n",
    "#sns.palplot(colors)\n",
    "sns.set_palette(colors)"
   ]
  },
  {
   "cell_type": "markdown",
   "metadata": {},
   "source": [
    "## Regular ring lattice"
   ]
  },
  {
   "cell_type": "markdown",
   "metadata": {},
   "source": [
    "To make a ring lattice, I'll start with a generator function that yields edges between each node and the next `halfk` neighbors."
   ]
  },
  {
   "cell_type": "code",
   "execution_count": 3,
   "metadata": {},
   "outputs": [],
   "source": [
    "def adjacent_edges(nodes, halfk):\n",
    "    \"\"\"Yields edges between each node and `halfk` neighbors.\n",
    "    \n",
    "    halfk: number of edges from each node\n",
    "    \"\"\"\n",
    "    n = len(nodes)\n",
    "    for i, u in enumerate(nodes):\n",
    "        for j in range(i+1, i+halfk+1):\n",
    "            v = nodes[j % n]\n",
    "            yield u, v"
   ]
  },
  {
   "cell_type": "markdown",
   "metadata": {},
   "source": [
    "We can test it with 3 nodes and `halfk=1`"
   ]
  },
  {
   "cell_type": "code",
   "execution_count": 4,
   "metadata": {},
   "outputs": [
    {
     "name": "stdout",
     "output_type": "stream",
     "text": [
      "(0, 1)\n",
      "(1, 2)\n",
      "(2, 0)\n"
     ]
    }
   ],
   "source": [
    "nodes = range(3)\n",
    "for edge in adjacent_edges(nodes, 1):\n",
    "    print(edge)"
   ]
  },
  {
   "cell_type": "markdown",
   "metadata": {},
   "source": [
    "Now we use `adjacent_edges` to write `make_ring_lattice`"
   ]
  },
  {
   "cell_type": "code",
   "execution_count": 5,
   "metadata": {},
   "outputs": [],
   "source": [
    "def make_ring_lattice(n, k):\n",
    "    \"\"\"Makes a ring lattice with `n` nodes and degree `k`.\n",
    "    \n",
    "    Note: this only works correctly if k is even.\n",
    "    \n",
    "    n: number of nodes\n",
    "    k: degree of each node\n",
    "    \"\"\"\n",
    "    G = nx.Graph()\n",
    "    nodes = range(n)\n",
    "    G.add_nodes_from(nodes)\n",
    "    G.add_edges_from(adjacent_edges(nodes, k//2))\n",
    "    return G"
   ]
  },
  {
   "cell_type": "markdown",
   "metadata": {},
   "source": [
    "And we can test it out with `n=10` and `k=4`"
   ]
  },
  {
   "cell_type": "code",
   "execution_count": 15,
   "metadata": {},
   "outputs": [],
   "source": [
    "lattice = make_ring_lattice(10, 4)"
   ]
  },
  {
   "cell_type": "code",
   "execution_count": 8,
   "metadata": {},
   "outputs": [
    {
     "name": "stdout",
     "output_type": "stream",
     "text": [
      "Saving figure to file figs/chap03-1\n"
     ]
    },
    {
     "data": {
      "image/png": "[encoded data removed]",
      "text/plain": [
       "<Figure size 432x288 with 1 Axes>"
      ]
     },
     "metadata": {},
     "output_type": "display_data"
    }
   ],
   "source": [
    "nx.draw_circular(lattice, \n",
    "                 node_color='C0', \n",
    "                 node_size=1000, \n",
    "                 with_labels=True)\n",
    "\n",
    "savefig('figs/chap03-1')"
   ]
  },
  {
   "cell_type": "markdown",
   "metadata": {},
   "source": [
    "**Exercise:** To see how this function fails when `k` is odd, run it again with `k=3` or `k=5`."
   ]
  },
  {
   "cell_type": "markdown",
   "metadata": {
    "collapsed": true
   },
   "source": [
    "## WS graph"
   ]
  },
  {
   "cell_type": "markdown",
   "metadata": {},
   "source": [
    "To make a WS graph, you start with a ring lattice and then rewire."
   ]
  },
  {
   "cell_type": "code",
   "execution_count": 6,
   "metadata": {},
   "outputs": [],
   "source": [
    "def make_ws_graph(n, k, p):\n",
    "    \"\"\"Makes a Watts-Strogatz graph.\n",
    "    \n",
    "    n: number of nodes\n",
    "    k: degree of each node\n",
    "    p: probability of rewiring an edge\n",
    "    \"\"\"\n",
    "    ws = make_ring_lattice(n, k)\n",
    "    rewire(ws, p)\n",
    "    return ws"
   ]
  },
  {
   "cell_type": "markdown",
   "metadata": {},
   "source": [
    "Here's the function that does the rewiring"
   ]
  },
  {
   "cell_type": "code",
   "execution_count": 7,
   "metadata": {},
   "outputs": [],
   "source": [
    "def rewire(G, p):\n",
    "    \"\"\"Rewires each edge with probability `p`.\n",
    "    \n",
    "    G: Graph\n",
    "    p: float\n",
    "    \"\"\"\n",
    "    nodes = set(G)\n",
    "    for u, v in G.edges():\n",
    "        if flip(p):\n",
    "            choices = nodes - {u} - set(G[u])\n",
    "            new_v = np.random.choice(list(choices))\n",
    "            G.remove_edge(u, v)\n",
    "            G.add_edge(u, new_v)\n",
    "            \n",
    "def flip(p):\n",
    "    \"\"\"Returns True with probability `p`.\"\"\"\n",
    "    return np.random.random() < p"
   ]
  },
  {
   "cell_type": "markdown",
   "metadata": {},
   "source": [
    "Here's an example with `p=0.2`"
   ]
  },
  {
   "cell_type": "code",
   "execution_count": 11,
   "metadata": {},
   "outputs": [
    {
     "data": {
      "image/png": "[encoded data removed]",
      "text/plain": [
       "<Figure size 432x288 with 1 Axes>"
      ]
     },
     "metadata": {},
     "output_type": "display_data"
    }
   ],
   "source": [
    "ws = make_ws_graph(10, 4, 0.2)\n",
    "nx.draw_circular(ws, \n",
    "                 node_color='C1', \n",
    "                 node_size=1000, \n",
    "                 with_labels=True)"
   ]
  },
  {
   "cell_type": "markdown",
   "metadata": {},
   "source": [
    "Just checking that we have the same number of edges we started with:"
   ]
  },
  {
   "cell_type": "code",
   "execution_count": 12,
   "metadata": {},
   "outputs": [
    {
     "data": {
      "text/plain": [
       "(20, 20)"
      ]
     },
     "execution_count": 12,
     "metadata": {},
     "output_type": "execute_result"
    }
   ],
   "source": [
    "len(lattice.edges()), len(ws.edges())"
   ]
  },
  {
   "cell_type": "markdown",
   "metadata": {},
   "source": [
    "Now I'll generate a plot that shows WS graphs for a few values of `p`"
   ]
  },
  {
   "cell_type": "code",
   "execution_count": 13,
   "metadata": {},
   "outputs": [
    {
     "name": "stdout",
     "output_type": "stream",
     "text": [
      "Saving figure to file figs/chap03-2\n"
     ]
    },
    {
     "data": {
      "image/png": "[encoded data removed]",
      "text/plain": [
       "<Figure size 432x288 with 4 Axes>"
      ]
     },
     "metadata": {},
     "output_type": "display_data"
    }
   ],
   "source": [
    "n = 10\n",
    "k = 4\n",
    "ns = 100\n",
    "\n",
    "plt.subplot(1,4,1)\n",
    "ws = make_ws_graph(n, k, 0)\n",
    "nx.draw_circular(ws, node_size=ns)\n",
    "plt.axis('equal')\n",
    "\n",
    "plt.subplot(1,4,2)\n",
    "ws = make_ws_graph(n, k, 0.2)\n",
    "nx.draw_circular(ws, node_size=ns)\n",
    "plt.axis('equal')\n",
    "\n",
    "plt.subplot(1,4,3)\n",
    "ws = make_ws_graph(n, k, 0.4)\n",
    "nx.draw_circular(ws, node_size=ns)\n",
    "plt.axis('equal')\n",
    "\n",
    "plt.subplot(1,4,4)\n",
    "ws = make_ws_graph(n, k, 1.0)\n",
    "nx.draw_circular(ws, node_size=ns)\n",
    "plt.axis('equal')\n",
    "\n",
    "#TODO: Set figure size\n",
    "savefig('figs/chap03-2')"
   ]
  },
  {
   "cell_type": "markdown",
   "metadata": {},
   "source": [
    "**Exercise:** What is the order of growth of `rewire`?"
   ]
  },
  {
   "cell_type": "code",
   "execution_count": 14,
   "metadata": {},
   "outputs": [
    {
     "data": {
      "text/plain": [
       "'The for loop is O(m).\\n    Inside the for loop, set subtraction is O(n)\\n    \\nTherefore, rewire is O(n*m).\\nIm not confident in this. \\n\\nAfter reviewing the solution, turns out I got the right answer!'"
      ]
     },
     "execution_count": 14,
     "metadata": {},
     "output_type": "execute_result"
    }
   ],
   "source": [
    "# Solution goes here\n",
    "'''The for loop is O(m).\n",
    "    Inside the for loop, set subtraction is O(n)\n",
    "    \n",
    "Therefore, rewire is O(n*m).\n",
    "Im not confident in this. \n",
    "\n",
    "After reviewing the solution, turns out I got the right answer!'''"
   ]
  },
  {
   "cell_type": "markdown",
   "metadata": {
    "collapsed": true
   },
   "source": [
    "## Clustering"
   ]
  },
  {
   "cell_type": "markdown",
   "metadata": {},
   "source": [
    "The following function computes the local clustering coefficient for a given node, `u`:"
   ]
  },
  {
   "cell_type": "code",
   "execution_count": 8,
   "metadata": {},
   "outputs": [],
   "source": [
    "def node_clustering(G, u):\n",
    "    \"\"\"Computes local clustering coefficient for `u`.\n",
    "    \n",
    "    G: Graph\n",
    "    u: node\n",
    "    \n",
    "    returns: float\n",
    "    \"\"\"\n",
    "    neighbors = G[u]\n",
    "    k = len(neighbors)\n",
    "    if k < 2:\n",
    "        return np.nan\n",
    "        \n",
    "    possible = k * (k-1) / 2\n",
    "    exist = 0    \n",
    "    for v, w in all_pairs(neighbors):\n",
    "        if G.has_edge(v, w):\n",
    "            exist +=1\n",
    "    return exist / possible\n",
    "\n",
    "def all_pairs(nodes):\n",
    "    \"\"\"Generates all pairs of nodes.\"\"\"\n",
    "    for i, u in enumerate(nodes):\n",
    "        for j, v in enumerate(nodes):\n",
    "            if i < j:\n",
    "                yield u, v"
   ]
  },
  {
   "cell_type": "markdown",
   "metadata": {},
   "source": [
    "The network average clustering coefficient is just the mean of the local CCs."
   ]
  },
  {
   "cell_type": "code",
   "execution_count": 9,
   "metadata": {},
   "outputs": [],
   "source": [
    "def clustering_coefficient(G):\n",
    "    \"\"\"Average of the local clustering coefficients.\n",
    "    \n",
    "    G: Graph\n",
    "    \n",
    "    returns: float\n",
    "    \"\"\"\n",
    "    cu = [node_clustering(G, node) for node in G]\n",
    "    return np.nanmean(cu)"
   ]
  },
  {
   "cell_type": "markdown",
   "metadata": {},
   "source": [
    "In a ring lattice with `k=4`, the clustering coefficient for each node should be 0.5"
   ]
  },
  {
   "cell_type": "code",
   "execution_count": 20,
   "metadata": {},
   "outputs": [
    {
     "data": {
      "text/plain": [
       "0.5"
      ]
     },
     "execution_count": 20,
     "metadata": {},
     "output_type": "execute_result"
    }
   ],
   "source": [
    "lattice = make_ring_lattice(10, 4)\n",
    "node_clustering(lattice, 1)"
   ]
  },
  {
   "cell_type": "markdown",
   "metadata": {},
   "source": [
    "And the network average should be 0.5"
   ]
  },
  {
   "cell_type": "code",
   "execution_count": 21,
   "metadata": {},
   "outputs": [
    {
     "data": {
      "text/plain": [
       "0.5"
      ]
     },
     "execution_count": 21,
     "metadata": {},
     "output_type": "execute_result"
    }
   ],
   "source": [
    "clustering_coefficient(lattice)"
   ]
  },
  {
   "cell_type": "markdown",
   "metadata": {},
   "source": [
    "Correct."
   ]
  },
  {
   "cell_type": "code",
   "execution_count": 15,
   "metadata": {},
   "outputs": [
    {
     "name": "stdout",
     "output_type": "stream",
     "text": [
      "152 µs ± 4.76 µs per loop (mean ± std. dev. of 7 runs, 10000 loops each)\n"
     ]
    }
   ],
   "source": [
    "%timeit clustering_coefficient(lattice)"
   ]
  },
  {
   "cell_type": "markdown",
   "metadata": {},
   "source": [
    "**Exercise:** Write a version of `node_clustering` that replaces the `for` loop with a list comprehension.  Is it faster?"
   ]
  },
  {
   "cell_type": "code",
   "execution_count": 10,
   "metadata": {},
   "outputs": [],
   "source": [
    "def node_clustering(G, u):\n",
    "\t\"\"\"Calculates the ratio of actual neighbors of node 'u'\n",
    "\tin networkx graph 'g' to possible neighbors.\n",
    "\n",
    "\tG: NetworkX graph\n",
    "\tu: node within G\n",
    "\n",
    "\treturns: ratio of neighbors to possible neighbors\n",
    "\t\"\"\"\n",
    "\tneighbors = G[u]\n",
    "\tk = len(neighbors)\n",
    "\tif k < 2:\n",
    "\t\treturn np.nan\n",
    "\n",
    "\tpossible = k * (k-1) / 2\n",
    "\texist = sum([1 for v, w in all_pairs(neighbors) if G.has_edge(v, w)])\n",
    "\n",
    "\treturn exist/possible"
   ]
  },
  {
   "cell_type": "code",
   "execution_count": 33,
   "metadata": {},
   "outputs": [
    {
     "name": "stdout",
     "output_type": "stream",
     "text": [
      "161 µs ± 6.02 µs per loop (mean ± std. dev. of 7 runs, 10000 loops each)\n"
     ]
    }
   ],
   "source": [
    "%timeit clustering_coefficient(lattice)"
   ]
  },
  {
   "cell_type": "markdown",
   "metadata": {},
   "source": [
    "**Exercise:** What is the order of growth of `clustering_coefficient` in terms of `n`, `m`, and `k`?"
   ]
  },
  {
   "cell_type": "code",
   "execution_count": 21,
   "metadata": {},
   "outputs": [],
   "source": [
    "\"\"\"node_clustering is called n times.\n",
    "neighbors is proportional to k\n",
    "the for-loop is called for pair in all_pairs(neighbors)\n",
    "    therefore, the for loop is O(k^2)\n",
    "if the tested edge exists, add it to the list. This is O(m).\n",
    "\n",
    "Therefore, the whole function is O(k^2 n m)\"\"\""
   ]
  },
  {
   "cell_type": "markdown",
   "metadata": {},
   "source": [
    "## Path length"
   ]
  },
  {
   "cell_type": "markdown",
   "metadata": {},
   "source": [
    "The following function computes path lengths between all pairs of nodes"
   ]
  },
  {
   "cell_type": "code",
   "execution_count": 11,
   "metadata": {},
   "outputs": [],
   "source": [
    "def path_lengths(G):\n",
    "\tlength_map = dict(nx.shortest_path_length(G))\n",
    "\tlengths = [length_map[u][v] for u, v in all_pairs(G)]\n",
    "\treturn lengths"
   ]
  },
  {
   "cell_type": "markdown",
   "metadata": {},
   "source": [
    "The characteristic path length is the mean path length for all pairs."
   ]
  },
  {
   "cell_type": "code",
   "execution_count": 12,
   "metadata": {},
   "outputs": [],
   "source": [
    "def characteristic_path_length(G):\n",
    "\treturn np.mean(path_lengths(G))"
   ]
  },
  {
   "cell_type": "markdown",
   "metadata": {},
   "source": [
    "On a complete graph, the average path length should be 1"
   ]
  },
  {
   "cell_type": "code",
   "execution_count": 21,
   "metadata": {},
   "outputs": [
    {
     "data": {
      "text/plain": [
       "1.0"
      ]
     },
     "execution_count": 21,
     "metadata": {},
     "output_type": "execute_result"
    }
   ],
   "source": [
    "complete = nx.complete_graph(10)\n",
    "characteristic_path_length(complete)"
   ]
  },
  {
   "cell_type": "markdown",
   "metadata": {},
   "source": [
    "On a ring lattice with `n=1000` and `k=10`, the mean is about 50"
   ]
  },
  {
   "cell_type": "code",
   "execution_count": 22,
   "metadata": {},
   "outputs": [
    {
     "data": {
      "text/plain": [
       "50.450450450450454"
      ]
     },
     "execution_count": 22,
     "metadata": {},
     "output_type": "execute_result"
    }
   ],
   "source": [
    "lattice = make_ring_lattice(1000, 10)\n",
    "characteristic_path_length(lattice)"
   ]
  },
  {
   "cell_type": "markdown",
   "metadata": {},
   "source": [
    "**Exercise:**  What is the mean path length in a ring lattice with `n=10` and `k=4`?"
   ]
  },
  {
   "cell_type": "code",
   "execution_count": 21,
   "metadata": {},
   "outputs": [
    {
     "data": {
      "text/plain": [
       "1.6666666666666667"
      ]
     },
     "execution_count": 21,
     "metadata": {},
     "output_type": "execute_result"
    }
   ],
   "source": [
    "lattice = make_ring_lattice(10, 4)\n",
    "characteristic_path_length(lattice)"
   ]
  },
  {
   "cell_type": "markdown",
   "metadata": {},
   "source": [
    "## The experiment"
   ]
  },
  {
   "cell_type": "markdown",
   "metadata": {},
   "source": [
    "This function generates a WS graph with the given parameters and returns a pair of (mean path length, clustering coefficient):"
   ]
  },
  {
   "cell_type": "code",
   "execution_count": 13,
   "metadata": {},
   "outputs": [],
   "source": [
    "def run_one_graph(n, k, p):\n",
    "    \"\"\"Makes a WS graph and computes its stats.\n",
    "    \n",
    "    n: number of nodes\n",
    "    k: degree of each node\n",
    "    p: probability of rewiring\n",
    "    \n",
    "    returns: tuple of (mean path length, clustering coefficient)\n",
    "    \"\"\"\n",
    "    ws = make_ws_graph(n, k, p)    \n",
    "    mpl = characteristic_path_length(ws)\n",
    "    cc = clustering_coefficient(ws)\n",
    "    print(mpl, cc)\n",
    "    return mpl, cc"
   ]
  },
  {
   "cell_type": "markdown",
   "metadata": {},
   "source": [
    "With `n=1000` and `k=10`, it takes a few seconds on my computer:"
   ]
  },
  {
   "cell_type": "code",
   "execution_count": 25,
   "metadata": {},
   "outputs": [
    {
     "name": "stdout",
     "output_type": "stream",
     "text": [
      "8.331341341341341 0.643806349206349\n",
      "CPU times: user 6.23 s, sys: 57.6 ms, total: 6.29 s\n",
      "Wall time: 6.32 s\n"
     ]
    },
    {
     "data": {
      "text/plain": [
       "(8.331341341341341, 0.643806349206349)"
      ]
     },
     "execution_count": 25,
     "metadata": {},
     "output_type": "execute_result"
    }
   ],
   "source": [
    "%time run_one_graph(1000, 10, 0.01)"
   ]
  },
  {
   "cell_type": "markdown",
   "metadata": {},
   "source": [
    "Now we'll run it with a range of values for `p`."
   ]
  },
  {
   "cell_type": "code",
   "execution_count": 23,
   "metadata": {},
   "outputs": [
    {
     "name": "stdout",
     "output_type": "stream",
     "text": [
      "[1.00000000e-04 3.16227766e-04 1.00000000e-03 3.16227766e-03\n",
      " 1.00000000e-02 3.16227766e-02 1.00000000e-01 3.16227766e-01\n",
      " 1.00000000e+00]\n"
     ]
    }
   ],
   "source": [
    "ps = np.logspace(-4, 0, 9)\n",
    "print(ps)"
   ]
  },
  {
   "cell_type": "markdown",
   "metadata": {},
   "source": [
    "This function runs each value of `p` 20 times and returns a dictionary that maps from each `p` to a list of (mpl, cc) pairs."
   ]
  },
  {
   "cell_type": "code",
   "execution_count": 14,
   "metadata": {},
   "outputs": [],
   "source": [
    "def run_experiment(ps, n=1000, k=10, iters=20):\n",
    "    \"\"\"Computes stats for WS graphs with a range of `p`.\n",
    "    \n",
    "    ps: sequence of `p` to try\n",
    "    n: number of nodes\n",
    "    k: degree of each node\n",
    "    iters: number of times to run for each `p`\n",
    "    \n",
    "    returns:\n",
    "    \"\"\"\n",
    "    res = []\n",
    "    for p in ps:\n",
    "        print(p)\n",
    "        t = [run_one_graph(n, k, p) for _ in range(iters)]\n",
    "        means = np.array(t).mean(axis=0)\n",
    "        print(means)\n",
    "        res.append(means)\n",
    "    return np.array(res)"
   ]
  },
  {
   "cell_type": "markdown",
   "metadata": {},
   "source": [
    "Here are the raw results.  Warning: this takes a few minutes to run."
   ]
  },
  {
   "cell_type": "code",
   "execution_count": 25,
   "metadata": {},
   "outputs": [
    {
     "name": "stdout",
     "output_type": "stream",
     "text": [
      "0.0001\n",
      "27.61694894894895 0.6655030303030303\n",
      "50.450450450450454 0.6666666666666665\n",
      "50.450450450450454 0.6666666666666665\n",
      "50.450450450450454 0.6666666666666665\n",
      "42.46631231231231 0.6662787878787878\n",
      "50.450450450450454 0.6666666666666665\n",
      "47.245611611611615 0.6661343434343433\n",
      "50.450450450450454 0.6666666666666665\n",
      "49.87503503503503 0.6662065656565656\n",
      "40.11027827827828 0.6663510101010099\n",
      "50.450450450450454 0.6666666666666665\n",
      "50.450450450450454 0.6666666666666665\n",
      "50.450450450450454 0.6666666666666665\n",
      "50.450450450450454 0.6666666666666665\n",
      "39.67777177177177 0.6656742424242422\n",
      "37.90350550550551 0.6658186868686867\n",
      "50.42131531531532 0.6666015151515151\n",
      "50.450450450450454 0.6666666666666665\n",
      "39.784994994994996 0.6661343434343433\n",
      "50.450450450450454 0.6666666666666665\n",
      "[46.50283644  0.66640179]\n",
      "0.00031622776601683794\n",
      "39.2667027027027 0.6662787878787878\n",
      "50.450450450450454 0.6666666666666665\n",
      "32.791817817817815 0.6655752525252524\n",
      "36.983981981981984 0.6658186868686867\n",
      "26.755757757757756 0.6657196969696969\n",
      "36.493625625625626 0.6660353535353534\n",
      "34.851015015015015 0.6661797979797979\n",
      "41.81947147147147 0.6661343434343433\n",
      "45.415827827827826 0.6657464646464646\n",
      "33.46478478478478 0.6656742424242422\n",
      "38.604578578578575 0.6664232323232322\n",
      "32.250782782782785 0.6651873737373736\n",
      "33.39443443443444 0.6661797979797979\n",
      "38.75062462462463 0.6661343434343433\n",
      "45.509795795795796 0.6661343434343433\n",
      "43.06448448448448 0.6658186868686867\n",
      "35.984114114114114 0.665791919191919\n",
      "43.43474074074074 0.6664232323232322\n",
      "37.778168168168165 0.666179797979798\n",
      "46.040546546546544 0.6663510101010099\n",
      "[38.65528529  0.66602265]\n",
      "0.001\n",
      "27.140166166166168 0.6637237373737374\n",
      "27.78647247247247 0.6646550505050505\n",
      "24.63985185185185 0.6647994949494949\n",
      "18.717513513513513 0.663261616161616\n",
      "25.95861861861862 0.6653318181818181\n",
      "24.377663663663665 0.6635636363636364\n",
      "18.028116116116117 0.6632520202020201\n",
      "27.083725725725724 0.6651151515151514\n",
      "24.677525525525525 0.6638727272727272\n",
      "29.064696696696696 0.6644383838383837\n",
      "34.9572032032032 0.6660353535353535\n",
      "21.4924024024024 0.664240404040404\n",
      "25.270706706706708 0.6643393939393939\n",
      "29.818016016016017 0.6655030303030303\n",
      "23.417755755755756 0.664370202020202\n",
      "23.858542542542544 0.6645560606060605\n",
      "28.91945145145145 0.6650065656565655\n",
      "40.55225425425425 0.6661343434343433\n",
      "44.15237237237237 0.6656020202020201\n",
      "31.142280280280282 0.6657464646464646\n",
      "[27.55276677  0.66467737]\n",
      "0.0031622776601683794\n",
      "14.376482482482482 0.6606545454545455\n",
      "13.823043043043043 0.658969696969697\n",
      "14.37609009009009 0.6613525252525252\n",
      "15.912442442442442 0.6619131313131313\n",
      "12.748786786786788 0.6581575757575757\n",
      "13.670362362362363 0.6593247474747475\n",
      "14.72710910910911 0.6614207070707071\n",
      "14.458994994994995 0.6596338383838384\n",
      "17.758396396396396 0.6630621212121212\n",
      "18.90638838838839 0.6619227272727272\n",
      "21.885955955955957 0.6632424242424242\n",
      "13.999037037037038 0.6591252525252526\n",
      "14.425785785785786 0.6607343434343433\n",
      "14.659635635635636 0.660261616161616\n",
      "17.238448448448448 0.6605297979797979\n",
      "15.662166166166166 0.6606666666666667\n",
      "14.229391391391392 0.6601232323232323\n",
      "16.663481481481483 0.6606025252525252\n",
      "16.669997997998 0.6621873737373737\n",
      "16.693365365365366 0.6609757575757575\n",
      "[15.64426807  0.66074303]\n",
      "0.01\n",
      "9.138008008008008 0.6471742424242424\n",
      "7.963157157157157 0.6407463203463203\n",
      "7.516146146146146 0.638750505050505\n",
      "8.278012012012011 0.6445150793650792\n",
      "9.358616616616617 0.6508499999999999\n",
      "9.530028028028028 0.6516359307359307\n",
      "9.340136136136136 0.6494502886002885\n",
      "9.293555555555555 0.649660101010101\n",
      "9.030514514514515 0.646959090909091\n",
      "8.76838038038038 0.6464106060606061\n",
      "8.130538538538538 0.6436400432900432\n",
      "8.509841841841842 0.6458330447330447\n",
      "9.70115915915916 0.6510575757575757\n",
      "9.538274274274274 0.6503651515151514\n",
      "9.053703703703704 0.6491055555555556\n",
      "8.162900900900901 0.6429862193362194\n",
      "8.384308308308308 0.6460073593073594\n",
      "8.974564564564565 0.6487318903318904\n",
      "9.79413013013013 0.6503701298701299\n",
      "8.834722722722722 0.6484358585858586\n",
      "[8.86503493 0.64713425]\n",
      "0.03162277660168379\n",
      "5.758204204204204 0.6012549783549783\n",
      "6.076344344344345 0.6098316738816738\n",
      "6.116748748748749 0.6141943001443001\n",
      "6.201165165165166 0.6141295815295815\n",
      "6.259603603603604 0.6138483405483405\n",
      "5.8762102102102105 0.6020486124986125\n",
      "6.0583063063063065 0.610361888111888\n",
      "5.746776776776777 0.5967802253302253\n",
      "5.868552552552552 0.6052699134199133\n",
      "6.087905905905906 0.6100744144744145\n",
      "6.11522922922923 0.6146795093795094\n",
      "5.791347347347347 0.6032282106782106\n",
      "6.204266266266266 0.6164829004329004\n",
      "6.031855855855856 0.6072367965367964\n",
      "6.106646646646647 0.6085937229437229\n",
      "5.978850850850851 0.6100772005772005\n",
      "5.628268268268268 0.5986831168831169\n",
      "5.924524524524524 0.6081919302919302\n",
      "5.8537997997998 0.6061025419025419\n",
      "5.932856856856857 0.6075534132534133\n",
      "[5.98087317 0.60793116]\n",
      "0.1\n",
      "4.436904904904905 0.4890185481185481\n",
      "4.439691691691691 0.4925494061494062\n",
      "4.513043043043043 0.5028587024087025\n",
      "4.411895895895896 0.4864048951048951\n",
      "4.430184184184184 0.4928941447441447\n",
      "4.478834834834835 0.4958547674547675\n",
      "4.384876876876877 0.4822025918525918\n",
      "4.446158158158158 0.4958124375624376\n",
      "4.381671671671672 0.4829573926073926\n",
      "4.403185185185185 0.4843797258297258\n",
      "4.4442002002002 0.4954884171384172\n",
      "4.370146146146146 0.47532393717393717\n",
      "4.496614614614614 0.50100989010989\n",
      "4.468692692692692 0.4923730325230325\n",
      "4.420624624624625 0.4944863691863692\n",
      "4.450072072072072 0.4944684981684982\n",
      "4.366450450450451 0.4758540182040182\n",
      "4.477265265265265 0.4969775446775447\n",
      "4.411717717717718 0.4851746642246642\n",
      "4.401641641641642 0.49044049284049285\n",
      "[4.43169359 0.49032647]\n",
      "0.31622776601683794\n",
      "3.5695655655655654 0.21495367965367967\n",
      "3.58812012012012 0.22465471195471196\n",
      "3.573221221221221 0.21774790764790766\n",
      "3.580990990990991 0.22129545147834623\n",
      "3.588658658658659 0.2280019092019092\n",
      "3.5805665665665667 0.22587824348853758\n",
      "3.592838838838839 0.22278783993783993\n",
      "3.5627147147147147 0.21384930233165528\n",
      "3.5734934934934937 0.2184521756021756\n",
      "3.584924924924925 0.22006428016428015\n",
      "3.5756196196196197 0.21604671717171714\n",
      "3.573903903903904 0.21469370906870908\n",
      "3.5774814814814815 0.22120616572969515\n",
      "3.5686446446446447 0.21236529304029303\n",
      "3.5857377377377375 0.22303774134362367\n",
      "3.5593333333333335 0.21173864468864467\n",
      "3.5835075075075076 0.2211509074259074\n",
      "3.578244244244244 0.21721480186480188\n",
      "3.580854854854855 0.21510671828171826\n",
      "3.575767767767768 0.21728068043068044\n",
      "[3.57770951 0.21887634]\n",
      "1.0\n",
      "3.269747747747748 0.0100712159529497\n",
      "3.2675195195195195 0.007932550911420881\n",
      "3.2685965965965966 0.009252245328956715\n",
      "3.2703003003003004 0.0088378213289978\n",
      "3.2677057057057057 0.008580530743766038\n",
      "3.267983983983984 0.009833479918774035\n",
      "3.2686626626626625 0.00953991996995093\n",
      "3.2668188188188187 0.009308642011583188\n",
      "3.2703863863863862 0.010768393448656606\n",
      "3.2676576576576575 0.009496755334448834\n",
      "3.267857857857858 0.008641978532303609\n",
      "3.2674394394394395 0.007696965779318722\n",
      "3.2636956956956955 0.00867009522984755\n",
      "3.267683683683684 0.010674892917539976\n",
      "3.268942942942943 0.0096869444281209\n",
      "3.2642102102102104 0.008405723524841171\n",
      "3.2696556556556557 0.009732436028024264\n",
      "3.267253253253253 0.008858340352458001\n",
      "3.2685725725725727 0.010102082324304547\n",
      "3.2685325325325327 0.009099001901091685\n",
      "[3.26796116 0.0092595 ]\n",
      "CPU times: user 21min 39s, sys: 13.9 s, total: 21min 53s\n",
      "Wall time: 23min 18s\n"
     ]
    }
   ],
   "source": [
    "%time res = run_experiment(ps)"
   ]
  },
  {
   "cell_type": "code",
   "execution_count": 26,
   "metadata": {},
   "outputs": [
    {
     "data": {
      "text/plain": [
       "array([[4.65028364e+01, 6.66401793e-01],\n",
       "       [3.86552853e+01, 6.66022652e-01],\n",
       "       [2.75527668e+01, 6.64677374e-01],\n",
       "       [1.56442681e+01, 6.60743030e-01],\n",
       "       [8.86503493e+00, 6.47134250e-01],\n",
       "       [5.98087317e+00, 6.07931164e-01],\n",
       "       [4.43169359e+00, 4.90326474e-01],\n",
       "       [3.57770951e+00, 2.18876344e-01],\n",
       "       [3.26796116e+00, 9.25950080e-03]])"
      ]
     },
     "execution_count": 26,
     "metadata": {},
     "output_type": "execute_result"
    }
   ],
   "source": [
    "res"
   ]
  },
  {
   "cell_type": "markdown",
   "metadata": {},
   "source": [
    "Let's get the results into a form that's easy to plot."
   ]
  },
  {
   "cell_type": "code",
   "execution_count": 27,
   "metadata": {},
   "outputs": [],
   "source": [
    "L, C = np.transpose(res)"
   ]
  },
  {
   "cell_type": "code",
   "execution_count": 28,
   "metadata": {},
   "outputs": [
    {
     "data": {
      "text/plain": [
       "array([46.50283644, 38.65528529, 27.55276677, 15.64426807,  8.86503493,\n",
       "        5.98087317,  4.43169359,  3.57770951,  3.26796116])"
      ]
     },
     "execution_count": 28,
     "metadata": {},
     "output_type": "execute_result"
    }
   ],
   "source": [
    "L"
   ]
  },
  {
   "cell_type": "code",
   "execution_count": 29,
   "metadata": {},
   "outputs": [
    {
     "data": {
      "text/plain": [
       "array([0.66640179, 0.66602265, 0.66467737, 0.66074303, 0.64713425,\n",
       "       0.60793116, 0.49032647, 0.21887634, 0.0092595 ])"
      ]
     },
     "execution_count": 29,
     "metadata": {},
     "output_type": "execute_result"
    }
   ],
   "source": [
    "C"
   ]
  },
  {
   "cell_type": "markdown",
   "metadata": {},
   "source": [
    "And normalize them so they both start at 1.0"
   ]
  },
  {
   "cell_type": "code",
   "execution_count": 30,
   "metadata": {},
   "outputs": [],
   "source": [
    "L /= L[0]\n",
    "C /= C[0]"
   ]
  },
  {
   "cell_type": "markdown",
   "metadata": {},
   "source": [
    "Here's the plot that replicates Watts and Strogatz's Figure 2."
   ]
  },
  {
   "cell_type": "code",
   "execution_count": 31,
   "metadata": {},
   "outputs": [
    {
     "name": "stdout",
     "output_type": "stream",
     "text": [
      "Saving figure to file figs/chap03-3\n"
     ]
    },
    {
     "data": {
      "image/png": "[encoded data removed]",
      "text/plain": [
       "<Figure size 432x288 with 1 Axes>"
      ]
     },
     "metadata": {
      "needs_background": "light"
     },
     "output_type": "display_data"
    }
   ],
   "source": [
    "plt.plot(ps, C, 's-', linewidth=1, label='C(p) / C(0)')\n",
    "plt.plot(ps, L, 'o-', linewidth=1, label='L(p) / L(0)')\n",
    "decorate(xlabel='Rewiring probability (p)', xscale='log',\n",
    "         title='Normalized clustering coefficient and path length',\n",
    "         xlim=[0.00009, 1.1], ylim=[-0.01, 1.01])\n",
    "\n",
    "savefig('figs/chap03-3')"
   ]
  },
  {
   "cell_type": "markdown",
   "metadata": {},
   "source": [
    "## Breadth-first search"
   ]
  },
  {
   "cell_type": "markdown",
   "metadata": {},
   "source": [
    "Now let's see how the shortest path algorithm works.  We'll start with BFS, which is the basis for Dijkstra's algorithm.\n",
    "\n",
    "Here's our old friend, the ring lattice:"
   ]
  },
  {
   "cell_type": "code",
   "execution_count": 27,
   "metadata": {},
   "outputs": [],
   "source": [
    "lattice = make_ring_lattice(10, 4)"
   ]
  },
  {
   "cell_type": "code",
   "execution_count": 28,
   "metadata": {},
   "outputs": [
    {
     "data": {
      "image/png": "[encoded data removed]",
      "text/plain": [
       "<Figure size 432x288 with 1 Axes>"
      ]
     },
     "metadata": {},
     "output_type": "display_data"
    }
   ],
   "source": [
    "nx.draw_circular(lattice, \n",
    "                 node_color='C2', \n",
    "                 node_size=1000, \n",
    "                 with_labels=True)"
   ]
  },
  {
   "cell_type": "markdown",
   "metadata": {},
   "source": [
    "And here's my implementation of BFS using a deque."
   ]
  },
  {
   "cell_type": "code",
   "execution_count": 15,
   "metadata": {},
   "outputs": [],
   "source": [
    "from collections import deque\n",
    "\n",
    "def reachable_nodes_bfs(G, start):\n",
    "    \"\"\"Finds reachable nodes by BFS.\n",
    "    \n",
    "    G: graph\n",
    "    start: node to start at\n",
    "    \n",
    "    returns: set of reachable nodes\n",
    "    \"\"\"\n",
    "    seen = set()\n",
    "    queue = deque([start])\n",
    "    while queue:\n",
    "        node = queue.popleft()\n",
    "        if node not in seen:\n",
    "            seen.add(node)\n",
    "            queue.extend(G.neighbors(node))\n",
    "    return seen"
   ]
  },
  {
   "cell_type": "markdown",
   "metadata": {},
   "source": [
    "It works:"
   ]
  },
  {
   "cell_type": "code",
   "execution_count": 30,
   "metadata": {},
   "outputs": [
    {
     "data": {
      "text/plain": [
       "{0, 1, 2, 3, 4, 5, 6, 7, 8, 9}"
      ]
     },
     "execution_count": 30,
     "metadata": {},
     "output_type": "execute_result"
    }
   ],
   "source": [
    "reachable_nodes_bfs(lattice, 0)"
   ]
  },
  {
   "cell_type": "markdown",
   "metadata": {},
   "source": [
    "Here's a version that's a little faster, but maybe less readable."
   ]
  },
  {
   "cell_type": "code",
   "execution_count": 16,
   "metadata": {},
   "outputs": [],
   "source": [
    "def reachable_nodes_bfs(G, start):\n",
    "    \"\"\"Finds reachable nodes by BFS.\n",
    "    \n",
    "    G: graph\n",
    "    start: node to start at\n",
    "    \n",
    "    returns: set of reachable nodes\n",
    "    \"\"\"\n",
    "    seen = set()\n",
    "    queue = deque([start])\n",
    "    while queue:\n",
    "        node = queue.popleft()\n",
    "        if node not in seen:\n",
    "            seen.add(node)\n",
    "            neighbors = set(G[node]) - seen\n",
    "            queue.extend(neighbors)\n",
    "    return seen"
   ]
  },
  {
   "cell_type": "markdown",
   "metadata": {},
   "source": [
    "It works, too."
   ]
  },
  {
   "cell_type": "code",
   "execution_count": 32,
   "metadata": {},
   "outputs": [
    {
     "data": {
      "text/plain": [
       "{0, 1, 2, 3, 4, 5, 6, 7, 8, 9}"
      ]
     },
     "execution_count": 32,
     "metadata": {},
     "output_type": "execute_result"
    }
   ],
   "source": [
    "reachable_nodes_bfs(lattice, 0)"
   ]
  },
  {
   "cell_type": "markdown",
   "metadata": {},
   "source": [
    "## Dijkstra's algorithm"
   ]
  },
  {
   "cell_type": "markdown",
   "metadata": {},
   "source": [
    "Now we're ready for Dijkstra's algorithm, at least for graphs where all the edges have the same weight/length."
   ]
  },
  {
   "cell_type": "code",
   "execution_count": 17,
   "metadata": {},
   "outputs": [],
   "source": [
    "def shortest_path_dijkstra(G, source):\n",
    "    \"\"\"Finds shortest paths from `source` to all other nodes.\n",
    "    \n",
    "    G: graph\n",
    "    source: node to start at\n",
    "    \n",
    "    returns: make from node to path length\n",
    "    \"\"\"\n",
    "    dist = {source: 0}\n",
    "    queue = deque([source])\n",
    "    while queue:\n",
    "        node = queue.popleft()\n",
    "        new_dist = dist[node] + 1\n",
    "\n",
    "        neighbors = set(G[node]).difference(dist)\n",
    "        for n in neighbors:\n",
    "            dist[n] = new_dist\n",
    "        \n",
    "        queue.extend(neighbors)\n",
    "    return dist"
   ]
  },
  {
   "cell_type": "markdown",
   "metadata": {},
   "source": [
    "Again, we'll test it on a ring lattice."
   ]
  },
  {
   "cell_type": "code",
   "execution_count": 34,
   "metadata": {},
   "outputs": [],
   "source": [
    "lattice = make_ring_lattice(10, 4)"
   ]
  },
  {
   "cell_type": "code",
   "execution_count": 35,
   "metadata": {},
   "outputs": [
    {
     "data": {
      "image/png": "[encoded data removed]",
      "text/plain": [
       "<Figure size 432x288 with 1 Axes>"
      ]
     },
     "metadata": {},
     "output_type": "display_data"
    }
   ],
   "source": [
    "nx.draw_circular(lattice, \n",
    "                 node_color='C3', \n",
    "                 node_size=1000, \n",
    "                 with_labels=True)"
   ]
  },
  {
   "cell_type": "markdown",
   "metadata": {},
   "source": [
    "Here's my implementation:"
   ]
  },
  {
   "cell_type": "code",
   "execution_count": 36,
   "metadata": {},
   "outputs": [
    {
     "data": {
      "text/plain": [
       "{0: 0, 8: 1, 1: 1, 2: 1, 9: 1, 6: 2, 7: 2, 3: 2, 4: 2, 5: 3}"
      ]
     },
     "execution_count": 36,
     "metadata": {},
     "output_type": "execute_result"
    }
   ],
   "source": [
    "d1 = shortest_path_dijkstra(lattice, 0)\n",
    "d1"
   ]
  },
  {
   "cell_type": "markdown",
   "metadata": {},
   "source": [
    "And here's the result from NetworkX:"
   ]
  },
  {
   "cell_type": "code",
   "execution_count": 37,
   "metadata": {},
   "outputs": [
    {
     "data": {
      "text/plain": [
       "{0: 0, 1: 1, 2: 1, 8: 1, 9: 1, 3: 2, 4: 2, 6: 2, 7: 2, 5: 3}"
      ]
     },
     "execution_count": 37,
     "metadata": {},
     "output_type": "execute_result"
    }
   ],
   "source": [
    "d2 = nx.shortest_path_length(lattice, 0)\n",
    "d2"
   ]
  },
  {
   "cell_type": "markdown",
   "metadata": {},
   "source": [
    "They are the same:"
   ]
  },
  {
   "cell_type": "code",
   "execution_count": 38,
   "metadata": {},
   "outputs": [
    {
     "data": {
      "text/plain": [
       "True"
      ]
     },
     "execution_count": 38,
     "metadata": {},
     "output_type": "execute_result"
    }
   ],
   "source": [
    "d1 == d2"
   ]
  },
  {
   "cell_type": "markdown",
   "metadata": {
    "collapsed": true
   },
   "source": [
    "**Exercise:** In a ring lattice with `n=1000` and `k=10`, which node is farthest from 0 and how far is it?  Use `shortest_path_dijkstra` to check your answer.\n",
    "\n",
    "Note: the maximum distance between two nodes is the **diameter** of the graph."
   ]
  },
  {
   "cell_type": "code",
   "execution_count": 50,
   "metadata": {},
   "outputs": [],
   "source": [
    "# Solution goes here"
   ]
  },
  {
   "cell_type": "markdown",
   "metadata": {},
   "source": [
    "## Exercises"
   ]
  },
  {
   "cell_type": "markdown",
   "metadata": {},
   "source": [
    "**Exercise:** In a ring lattice, every node has the same number of neighbors.  The number of neighbors is called the **degree** of the node, and a graph where all nodes have the same degree is called a **regular graph**.\n",
    "\n",
    "All ring lattices are regular, but not all regular graphs are ring lattices.  In particular, if `k` is odd, we can't construct a ring lattice, but we might be able to construct a regular graph.\n",
    "\n",
    "Write a function called `make_regular_graph` that takes `n` and `k` and returns a regular graph that contains `n` nodes, where every node has `k` neighbors.  If it's not possible to make a regular graph with the given values of `n` and `k`, the function should raise a `ValueError`."
   ]
  },
  {
   "cell_type": "code",
   "execution_count": 23,
   "metadata": {},
   "outputs": [],
   "source": [
    "def opposite_edges(nodes):\n",
    "\t\"\"\"Generates edge crossing graph of form (source, dest)\n",
    "\n",
    "\tnodes: iterable of nodes (e.g. range)\n",
    "\tyields: edge\n",
    "\t\"\"\"\n",
    "\tn = len(nodes)\n",
    "\thalfnodes = nodes[0 : n//2]\n",
    "\tfor i, u in enumerate(halfnodes):\n",
    "\t\tcross = (i+n//2) % n\n",
    "\t\tyield u, nodes[cross]"
   ]
  },
  {
   "cell_type": "code",
   "execution_count": 24,
   "metadata": {},
   "outputs": [],
   "source": [
    "def make_regular_graph(n, k):\n",
    "\t\"\"\"Makes a regular graph with `n` nodes and degree `k`.\n",
    "\n",
    "\tCalls make_ring_lattice if k is even.\n",
    "\tRaises ValueError if both n and k are odd.\t\n",
    "\n",
    "\tn: number of nodes\n",
    "\tk: degree of each node\n",
    "\t\"\"\"\n",
    "\n",
    "\tif k%2 == 0:\n",
    "\t\tG = make_ring_lattice(n, k)\n",
    "\n",
    "\telif (n%2 == 0) & (k%2 == 0):\n",
    "\t\traise ValueError('Cannot make regular graph with odd values of n and k')\n",
    "\n",
    "\telse:\n",
    "\t\tG = make_ring_lattice(n, 2)\n",
    "\t\tnodes = range(n)\n",
    "\t\tG.add_edges_from(opposite_edges(nodes))\n",
    "\n",
    "\treturn G\n"
   ]
  },
  {
   "cell_type": "code",
   "execution_count": 25,
   "metadata": {},
   "outputs": [
    {
     "name": "stdout",
     "output_type": "stream",
     "text": [
      "Saving figure to file figs/chap03-3-mine\n"
     ]
    },
    {
     "data": {
      "image/png": "[encoded data removed]",
      "text/plain": [
       "<Figure size 432x288 with 1 Axes>"
      ]
     },
     "metadata": {},
     "output_type": "display_data"
    }
   ],
   "source": [
    "G = make_regular_graph(10, 3)\n",
    "nx.draw_circular(G, \n",
    "             node_color='C0', \n",
    "             node_size=1000, \n",
    "             with_labels=True)\n",
    "savefig('figs/chap03-3-mine')"
   ]
  },
  {
   "cell_type": "code",
   "execution_count": 54,
   "metadata": {},
   "outputs": [],
   "source": []
  },
  {
   "cell_type": "markdown",
   "metadata": {
    "collapsed": true
   },
   "source": [
    "**Exercise:** My implementation of `reachable_nodes_bfs` is efficient in the sense that it is in $O(n + m)$, but it incurs a lot of overhead adding nodes to the queue and removing them.  NetworkX provides a simple, fast implementation of BFS, available from [the NetworkX repository on GitHub](https://github.com/networkx/networkx/blob/master/networkx/algorithms/components/connected.py).\n",
    "\n",
    "Here is a version I modified to return a set of nodes:"
   ]
  },
  {
   "cell_type": "code",
   "execution_count": 26,
   "metadata": {},
   "outputs": [],
   "source": [
    "def plain_bfs(G, start):\n",
    "    \"\"\"A fast BFS node generator\"\"\"\n",
    "    seen = set()\n",
    "    nextlevel = {start}\n",
    "    while nextlevel:\n",
    "        thislevel = nextlevel\n",
    "        nextlevel = set()\n",
    "        for v in thislevel:\n",
    "            if v not in seen:\n",
    "                seen.add(v)\n",
    "                nextlevel.update(G[v])\n",
    "    return seen"
   ]
  },
  {
   "cell_type": "markdown",
   "metadata": {},
   "source": [
    "Compare this function to `reachable_nodes_bfs` and see which is faster.  Then see if you can modify this function to implement a faster version of `shortest_path_dijkstra`"
   ]
  },
  {
   "cell_type": "code",
   "execution_count": 29,
   "metadata": {},
   "outputs": [
    {
     "name": "stdout",
     "output_type": "stream",
     "text": [
      "plain_bfs\n",
      "2.39 ms ± 108 µs per loop (mean ± std. dev. of 7 runs, 100 loops each)\n",
      "reachable_nodes_bfs\n",
      "3.39 ms ± 122 µs per loop (mean ± std. dev. of 7 runs, 100 loops each)\n"
     ]
    }
   ],
   "source": [
    "G = make_ring_lattice(1000, 10)\n",
    "\n",
    "print('plain_bfs')\n",
    "%timeit plain_bfs(G, 0)\n",
    "\n",
    "print('reachable_nodes_bfs')\n",
    "%timeit reachable_nodes_bfs(G, 0)"
   ]
  },
  {
   "cell_type": "code",
   "execution_count": 32,
   "metadata": {},
   "outputs": [],
   "source": [
    "def dijkstra_2(G, source):\n",
    "\tdist = {}\n",
    "\tnew_dist = 0\n",
    "\tnextlevel = {source}\n",
    "\n",
    "\twhile nextlevel:\n",
    "\t\tthislevel = nextlevel\n",
    "\t\tnextlevel = set()\n",
    "\n",
    "\t\tfor v in thislevel:\n",
    "\t\t\tif v not in dist.keys():\n",
    "\t\t\t\tdist[v] = new_dist\n",
    "\t\t\t\tnextlevel.update(G[v])\n",
    "\t\tnew_dist += 1\n",
    "\treturn dist"
   ]
  },
  {
   "cell_type": "code",
   "execution_count": 33,
   "metadata": {},
   "outputs": [
    {
     "name": "stdout",
     "output_type": "stream",
     "text": [
      "Original Dijkstra algorithm\n",
      "3 ms ± 104 µs per loop (mean ± std. dev. of 7 runs, 100 loops each)\n",
      "Modified Dijkstra algorithm\n",
      "2.59 ms ± 81.9 µs per loop (mean ± std. dev. of 7 runs, 100 loops each)\n"
     ]
    }
   ],
   "source": [
    "G = make_ring_lattice(1000, 10)\n",
    "\n",
    "print('Original Dijkstra algorithm')\n",
    "%timeit shortest_path_dijkstra(G, 0)\n",
    "\n",
    "print('Modified Dijkstra algorithm')\n",
    "%timeit dijkstra_2(G, 0)"
   ]
  },
  {
   "cell_type": "code",
   "execution_count": null,
   "metadata": {},
   "outputs": [],
   "source": []
  },
  {
   "cell_type": "code",
   "execution_count": 60,
   "metadata": {},
   "outputs": [],
   "source": [
    "# Solution goes here"
   ]
  },
  {
   "cell_type": "code",
   "execution_count": 61,
   "metadata": {},
   "outputs": [],
   "source": [
    "# Solution goes here"
   ]
  },
  {
   "cell_type": "code",
   "execution_count": 30,
   "metadata": {},
   "outputs": [],
   "source": [
    "#"
   ]
  },
  {
   "cell_type": "code",
   "execution_count": 63,
   "metadata": {},
   "outputs": [],
   "source": [
    "# Solution goes here"
   ]
  },
  {
   "cell_type": "markdown",
   "metadata": {},
   "source": [
    "**Exercise:** The following implementation of a BFS contains two performance errors.  What are\n",
    "they?  What is the actual order of growth for this algorithm?"
   ]
  },
  {
   "cell_type": "code",
   "execution_count": 36,
   "metadata": {},
   "outputs": [],
   "source": [
    "def bad_bfs(G, start):\n",
    "    \"\"\"Breadth-first search on a graph, starting at top_node.\"\"\"\n",
    "    visited = set()\n",
    "    queue = [start]\n",
    "    while len(queue):\n",
    "        curr_node = queue.pop(0)    # Dequeue\n",
    "        visited.add(curr_node)\n",
    "\n",
    "        # Enqueue non-visited and non-enqueued children\n",
    "        queue.extend(c for c in G[curr_node]\n",
    "                     if c not in visited and c not in queue)\n",
    "    return visited"
   ]
  },
  {
   "cell_type": "code",
   "execution_count": 55,
   "metadata": {},
   "outputs": [],
   "source": [
    "def plain_bfs(G, start):\n",
    "    \"\"\"A fast BFS node generator\"\"\"\n",
    "    seen = set()\n",
    "    nextlevel = {start}\n",
    "    while nextlevel:\n",
    "        thislevel = nextlevel\n",
    "        nextlevel = set()\n",
    "        for v in thislevel:\n",
    "            if v not in seen:\n",
    "                seen.add(v)\n",
    "                nextlevel.update(G[v])\n",
    "    return seen"
   ]
  },
  {
   "cell_type": "code",
   "execution_count": 58,
   "metadata": {},
   "outputs": [
    {
     "name": "stdout",
     "output_type": "stream",
     "text": [
      "bad bfs\n",
      "3.29 ms ± 103 µs per loop (mean ± std. dev. of 7 runs, 100 loops each)\n",
      "good bfs\n",
      "364 µs ± 15.3 µs per loop (mean ± std. dev. of 7 runs, 1000 loops each)\n"
     ]
    }
   ],
   "source": [
    "G = make_ring_lattice(100, 100)\n",
    "\n",
    "print('bad bfs')\n",
    "# bad_bfs(G, 0)\n",
    "%timeit bad_bfs(G, 0)\n",
    "\n",
    "print('good bfs')\n",
    "# plain_bfs(G, 0)\n",
    "%timeit plain_bfs(G, 0)"
   ]
  },
  {
   "cell_type": "markdown",
   "metadata": {},
   "source": [
    "**Exercise:** In the book, I claimed that Dijkstra's algorithm does not work unless it uses BFS.  Write a version of `shortest_path_dijkstra` that uses DFS and test it on a few examples to see what goes wrong."
   ]
  },
  {
   "cell_type": "code",
   "execution_count": 59,
   "metadata": {},
   "outputs": [
    {
     "name": "stdout",
     "output_type": "stream",
     "text": [
      "DFS dijkstra algorithm:\n",
      "{0: 0, 9: 1, 1: 2, 3: 4, 5: 5, 7: 6, 8: 8, 6: 12, 4: 16, 2: 20}\n"
     ]
    }
   ],
   "source": [
    "def dijkstra_dfs_bad(G, source):\n",
    "\t\"\"\"Attempts to perform dijkstra algorithm using depth-first search.\n",
    "\tThis does not work.\n",
    "\n",
    "\tG: NetworkX.Graph\n",
    "\tsource: node\n",
    "\n",
    "\treturns: dict of form {destination node: shortest distance}\n",
    "\t\"\"\"\n",
    "\tdist = {}\n",
    "\tnew_dist = 0\n",
    "\n",
    "\tstack = [source]\n",
    "\twhile stack:\n",
    "\t\tnode = stack.pop()\n",
    "\t\tif node not in dist.keys():\n",
    "\t\t\tdist[node] = new_dist\n",
    "\t\t\tstack.extend(G.neighbors(node))\n",
    "\n",
    "\t\tnew_dist += 1\n",
    "\n",
    "\treturn dist\n",
    "\n",
    "G = make_ring_lattice(10, 4)\n",
    "print('DFS dijkstra algorithm:')\n",
    "print(dijkstra_dfs_bad(G, 0))"
   ]
  },
  {
   "cell_type": "code",
   "execution_count": null,
   "metadata": {},
   "outputs": [],
   "source": []
  }
 ],
 "metadata": {
  "kernelspec": {
   "display_name": "Python 3",
   "language": "python",
   "name": "python3"
  },
  "language_info": {
   "codemirror_mode": {
    "name": "ipython",
    "version": 3
   },
   "file_extension": ".py",
   "mimetype": "text/x-python",
   "name": "python",
   "nbconvert_exporter": "python",
   "pygments_lexer": "ipython3",
   "version": "3.7.6"
  }
 },
 "nbformat": 4,
 "nbformat_minor": 1
}
